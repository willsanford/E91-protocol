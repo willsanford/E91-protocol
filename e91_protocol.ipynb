{
 "cells": [
  {
   "cell_type": "markdown",
   "metadata": {},
   "source": [
    "## Protocol Steps\n",
    "1. Alice and Bob create n EPR pairs.\n",
    "2. For each pair, Alice and Bob measure randomly from the {a1,a2,a3} and {b1,b2,b3} basis respectivly. Each of these bases is a rotation around the bloch sphere where a2=b1 and a3=b2\n",
    "3. Alice and Bob share their measurement bases over a public channel \n",
    "4. Alice and Bob both remoove all the bits in their strings corresponding to 0s in the string bob just sent\n"
   ]
  },
  {
   "cell_type": "code",
   "execution_count": 19,
   "metadata": {},
   "outputs": [],
   "source": [
    "from qiskit import QuantumCircuit, Aer, transpile, assemble\n",
    "from qiskit.visualization import plot_histogram, plot_bloch_multivector\n",
    "from numpy.random import randint\n",
    "import numpy as np\n",
    "import pandas as pd\n",
    "from math import pi, sqrt"
   ]
  },
  {
   "cell_type": "markdown",
   "metadata": {},
   "source": [
    "### Set meta variables"
   ]
  },
  {
   "cell_type": "code",
   "execution_count": 44,
   "metadata": {},
   "outputs": [],
   "source": [
    "n = 15\n",
    "test = True\n",
    "rand_seed = False\n",
    "\n",
    "if rand_seed:\n",
    "    np.random.seed(seed=0)"
   ]
  },
  {
   "cell_type": "markdown",
   "metadata": {},
   "source": [
    "### Step 1: Create n EPR pairs"
   ]
  },
  {
   "cell_type": "code",
   "execution_count": 45,
   "metadata": {},
   "outputs": [],
   "source": [
    "def create_EPR_pairs(n):\n",
    "    pairs = []\n",
    "    for i in range(n):\n",
    "        qc = QuantumCircuit(2,2)\n",
    "        qc.h(0)\n",
    "        qc.cx(0,1)\n",
    "        pairs.append(qc)\n",
    "    return pairs"
   ]
  },
  {
   "cell_type": "markdown",
   "metadata": {},
   "source": [
    "### Step 2: Bob and Alice measure in their repsective bases"
   ]
  },
  {
   "cell_type": "code",
   "execution_count": 53,
   "metadata": {},
   "outputs": [],
   "source": [
    "# Measures the two bits of an EPR pair with a basis that is the z basis rotated by the given angle\n",
    "def measure_ang(qca, a_base, b_base):\n",
    "    # First measure alices bit and then measure bobs\n",
    "\n",
    "    if a_base == 0:\n",
    "        # Measure directly in the z basis\n",
    "        qca.measure(0,0)\n",
    "\n",
    "    elif a_base == 1:\n",
    "        # rotate the y basis by pi/4\n",
    "        qca.u3(pi/4,0,0,0)\n",
    "        qca.measure(0,0)\n",
    "        qca.u3(-pi/4,0,0,0)\n",
    "        \n",
    "    elif a_base == 2:\n",
    "        # rotate the y basis by pi/2\n",
    "        qca.u3(pi/2,0,0,0)\n",
    "        qca.measure(0,0)\n",
    "        qca.u3(-pi/2,0,0,0)\n",
    "        \n",
    "    if b_base == 0:\n",
    "        # rotate the z basis by pi/4\n",
    "        qca.u3(pi/4,0,0,1)\n",
    "        qca.measure(1,1)\n",
    "        qca.u3(-pi/4,0,0,1)\n",
    "        \n",
    "    elif b_base == 1:\n",
    "        # rotate the z basis by pi/2\n",
    "        qca.u3(pi/2,0,0,1)\n",
    "        qca.measure(1,1)\n",
    "        qca.u3(-pi/2,0,0,1)\n",
    "        \n",
    "    elif b_base == 2:\n",
    "        # rotate the z basis by 3pi/4\n",
    "        qca.u3(3*pi/4,0,0,1)\n",
    "        qca.measure(1,1)\n",
    "        qca.u3(-3*pi/4,0,0,1)\n",
    "    \n",
    "    # Simulate the measurement (taken directly from the qiskit example)\n",
    "    qasm_sim = Aer.get_backend('qasm_simulator')\n",
    "    qobj = assemble(qca, shots=1, memory=True)\n",
    "    result = list(qasm_sim.run(qobj).result().get_memory()[0])    \n",
    "    return int(result[0]),int(result[1])\n",
    "    \n",
    "\n",
    "def measure(pairs, alice_bases, bob_bases):\n",
    "    alice_outcome, bob_outcome = [],[]\n",
    "    for i, pair in enumerate(pairs):\n",
    "        # If measuring in compatible bases, measure and if not add a dummy value of 2\n",
    "        if (alice_bases[i] == 1 and bob_bases[i] == 0) or (alice_bases[i] == 2 and bob_bases[i] == 1):\n",
    "            a_out, b_out = measure_ang(pair, alice_bases[i], bob_bases[i])\n",
    "            alice_outcome.append(a_out)\n",
    "            bob_outcome.append(b_out)\n",
    "        else:\n",
    "            alice_outcome.append(2)\n",
    "            bob_outcome.append(2)\n",
    "    return alice_outcome, bob_outcome\n",
    "        "
   ]
  },
  {
   "cell_type": "code",
   "execution_count": 54,
   "metadata": {},
   "outputs": [],
   "source": [
    "def trash(a,b,a_bases, b_bases):\n",
    "    final_key = []\n",
    "    for i in range(len(a_bases)):\n",
    "        if (a_bases[i] == 1 and b_bases[i] == 0) or (a_bases[i] == 2 and b_bases[i] == 1):\n",
    "            final_key.append(a[i])\n",
    "    return final_key"
   ]
  },
  {
   "cell_type": "code",
   "execution_count": null,
   "metadata": {},
   "outputs": [],
   "source": [
    "def sum_cc():"
   ]
  },
  {
   "cell_type": "code",
   "execution_count": 55,
   "metadata": {},
   "outputs": [
    {
     "name": "stdout",
     "output_type": "stream",
     "text": [
      "[2, 2, 1, 2, 2, 2, 2, 2, 2, 2, 0, 2, 2, 2, 2]\n",
      "[2, 2, 1, 2, 2, 2, 2, 2, 2, 2, 0, 2, 2, 2, 2]\n",
      "[0 2 2 1 2 2 2 1 1 0 2 0 2 0 0]\n",
      "[0 2 1 1 2 2 0 1 1 0 1 1 0 1 0]\n",
      "[1, 0]\n"
     ]
    }
   ],
   "source": [
    "alice_bases = randint(3, size=n)\n",
    "bob_bases = randint(3, size=n)\n",
    "\n",
    "\n",
    "EPR_pairs = create_EPR_pairs(n)\n",
    "\n",
    "a,b = measure(EPR_pairs, alice_bases, bob_bases)\n",
    "\n",
    "final = trash(a,b,alice_bases,bob_bases)\n"
   ]
  },
  {
   "cell_type": "code",
   "execution_count": null,
   "metadata": {},
   "outputs": [],
   "source": []
  },
  {
   "cell_type": "code",
   "execution_count": null,
   "metadata": {},
   "outputs": [],
   "source": []
  }
 ],
 "metadata": {
  "kernelspec": {
   "display_name": "Python 3",
   "language": "python",
   "name": "python3"
  },
  "language_info": {
   "codemirror_mode": {
    "name": "ipython",
    "version": 3
   },
   "file_extension": ".py",
   "mimetype": "text/x-python",
   "name": "python",
   "nbconvert_exporter": "python",
   "pygments_lexer": "ipython3",
   "version": "3.7.6"
  }
 },
 "nbformat": 4,
 "nbformat_minor": 4
}
