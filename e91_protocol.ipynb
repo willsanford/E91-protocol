{
 "cells": [
  {
   "cell_type": "markdown",
   "metadata": {},
   "source": [
    "## Protocol Steps\n",
    "1. Alice and Bob create n EPR pairs.\n",
    "2. For each pair, Alice and Bob measure randomly from the {a1,a2,a3} and {b1,b2,b3} basis respectivly. Each of these bases is a rotation around the bloch sphere where a2=b1 and a3=b2\n",
    "3. Alice and Bob share their measurement bases over a public channel \n",
    "4. Alice and Bob both remoove all the bits in their strings corresponding to 0s in the string bob just sent\n"
   ]
  },
  {
   "cell_type": "code",
   "execution_count": 70,
   "metadata": {},
   "outputs": [],
   "source": [
    "from qiskit import QuantumCircuit, Aer, transpile, assemble\n",
    "from qiskit.visualization import plot_histogram, plot_bloch_multivector\n",
    "from numpy.random import randint\n",
    "import numpy as np\n",
    "import pandas as pd\n",
    "from math import pi, sqrt"
   ]
  },
  {
   "cell_type": "markdown",
   "metadata": {},
   "source": [
    "### Set meta variables"
   ]
  },
  {
   "cell_type": "code",
   "execution_count": 71,
   "metadata": {},
   "outputs": [],
   "source": [
    "n = 300\n",
    "test = True\n",
    "rand_seed = False\n",
    "\n",
    "eve = False\n",
    "\n",
    "if rand_seed:\n",
    "    np.random.seed(seed=0)"
   ]
  },
  {
   "cell_type": "markdown",
   "metadata": {},
   "source": [
    "### This function simple takes a number and returns a list of that length filled with EPR pairs"
   ]
  },
  {
   "cell_type": "code",
   "execution_count": 72,
   "metadata": {},
   "outputs": [],
   "source": [
    "def create_EPR_pairs(n):\n",
    "    pairs = []\n",
    "    for i in range(n):\n",
    "        qc = QuantumCircuit(2,2)\n",
    "        qc.h(0)\n",
    "        qc.cx(0,1)\n",
    "        pairs.append(qc)\n",
    "    return pairs"
   ]
  },
  {
   "cell_type": "markdown",
   "metadata": {},
   "source": [
    "### This function measures a single entangled bit with two different bases and returns their result in a tuple"
   ]
  },
  {
   "cell_type": "code",
   "execution_count": 73,
   "metadata": {},
   "outputs": [],
   "source": [
    "# Measures the two bits of an EPR pair with a basis that is the z basis rotated by the given angle\n",
    "def measure_ang(qca, a_base, b_base):\n",
    "    # First measure alices bit and then measure bobs\n",
    "\n",
    "    if a_base == 0:\n",
    "        # Measure directly in the z basis\n",
    "        qca.measure(0,0)\n",
    "\n",
    "    elif a_base == 1:\n",
    "        # rotate the y basis by pi/4\n",
    "        qca.u(pi/4,0,0,0)\n",
    "        qca.measure(0,0)\n",
    "        qca.u(-pi/4,0,0,0)\n",
    "        \n",
    "    elif a_base == 2:\n",
    "        # rotate the y basis by pi/2\n",
    "        qca.u(pi/2,0,0,0)\n",
    "        qca.measure(0,0)\n",
    "        qca.u(-pi/2,0,0,0)\n",
    "        \n",
    "    if b_base == 0:\n",
    "        # rotate the z basis by pi/4\n",
    "        qca.u(pi/4,0,0,1)\n",
    "        qca.measure(1,1)\n",
    "        qca.u(-pi/4,0,0,1)\n",
    "        \n",
    "    elif b_base == 1:\n",
    "        # rotate the z basis by pi/2\n",
    "        qca.u(pi/2,0,0,1)\n",
    "        qca.measure(1,1)\n",
    "        qca.u(-pi/2,0,0,1)\n",
    "        \n",
    "    elif b_base == 2:\n",
    "        # rotate the z basis by 3pi/4\n",
    "        qca.u(3*pi/4,0,0,1)\n",
    "        qca.measure(1,1)\n",
    "        qca.u(-3*pi/4,0,0,1)\n",
    "    \n",
    "    # Simulate the measurement (taken directly from the qiskit example)\n",
    "    qasm_sim = Aer.get_backend('qasm_simulator')\n",
    "    qobj = assemble(qca, shots=1, memory=True)\n",
    "    result = list(qasm_sim.run(qobj).result().get_memory()[0])    \n",
    "    return int(result[0]),int(result[1])\n",
    "    \n",
    "\n",
    "def measure(pairs, alice_bases, bob_bases):\n",
    "    alice_outcome, bob_outcome = [],[]\n",
    "    for i, pair in enumerate(pairs):\n",
    "        # If measuring in compatible bases, measure and if not add a dummy value of 2\n",
    "        a_out, b_out = measure_ang(pair, alice_bases[i], bob_bases[i])\n",
    "        alice_outcome.append(a_out)\n",
    "        bob_outcome.append(b_out)\n",
    "    return alice_outcome, bob_outcome\n",
    "        "
   ]
  },
  {
   "source": [
    "### This function takes alice, bobs and eves measurements and bases and returns the final keys and the CHSH test value "
   ],
   "cell_type": "markdown",
   "metadata": {}
  },
  {
   "cell_type": "code",
   "execution_count": 74,
   "metadata": {},
   "outputs": [],
   "source": [
    "def trash(a,b,a_bases, b_bases, eve_a, eve_b):\n",
    "    alice_key = []\n",
    "    bob_key = []\n",
    "    eve_key = []\n",
    "    a1b1 = []\n",
    "    a1b3 = []\n",
    "    a3b1 = []\n",
    "    a3b3 = []\n",
    "\n",
    "    for i in range(len(a_bases)):\n",
    "        if (a_bases[i] == 1 and b_bases[i] == 0) or (a_bases[i] == 2 and b_bases[i] == 1):\n",
    "            alice_key.append(a[i])\n",
    "            bob_key.append(b[i])\n",
    "            if eve:\n",
    "                eve_key.append(eve_a[i])\n",
    "        elif a_bases[i] == 0 and b_bases[i] == 0:\n",
    "            a1b1.append((a[i],b[i]))\n",
    "        elif a_bases[i] == 0 and b_bases[i] == 2:\n",
    "            a1b3.append((a[i],b[i]))\n",
    "        elif a_bases[i] == 2 and b_bases[i] == 0:\n",
    "            a3b1.append((a[i],b[i]))\n",
    "        elif a_bases[i] == 2 and b_bases[i] == 2:\n",
    "            a3b3.append((a[i],b[i]))\n",
    "            \n",
    "            \n",
    "        E = []\n",
    "        for outcome in [a1b1, a1b3, a3b1, a3b3]:\n",
    "            tot = 0 \n",
    "            count = 0\n",
    "\n",
    "            for result in outcome:\n",
    "                if (result == (1,1)) or (result == (0,0)):\n",
    "                    count += 1\n",
    "                else:\n",
    "                    count -= 1\n",
    "                tot += 1\n",
    "                \n",
    "            if tot != 0:\n",
    "                E.append(count/tot)\n",
    "            else:\n",
    "                E.append(0)\n",
    "                \n",
    "        S = E[0] - E[1] + E[2] + E[3]\n",
    "    return alice_key, bob_key, eve_key, S"
   ]
  },
  {
   "source": [
    "### This function takes a list of EPR pairs and measures all the qubits in the z basis"
   ],
   "cell_type": "markdown",
   "metadata": {}
  },
  {
   "cell_type": "code",
   "execution_count": 75,
   "metadata": {},
   "outputs": [],
   "source": [
    "def eve_intercept(EPR_pairs):\n",
    "    bob_result = []\n",
    "    alice_result = []\n",
    "\n",
    "    for pair in EPR_pairs:\n",
    "        pair.measure(0,0)\n",
    "        pair.measure(1,1)\n",
    "\n",
    "        qasm_sim = Aer.get_backend('qasm_simulator')\n",
    "        qobj = assemble(pair, shots=1, memory=True)\n",
    "        result = list(qasm_sim.run(qobj).result().get_memory()[0])   \n",
    "        alice_result.append(int(result[0]))\n",
    "        bob_result.append(int(result[1])) \n",
    "    return alice_result,bob_result\n"
   ]
  },
  {
   "source": [
    "## First trial\n",
    "We can first run with no Eve and an n of 300. We would expect Alice and Bob to get matching keys. We would also expect the CHSH test to yield around 2 root 2.\n"
   ],
   "cell_type": "markdown",
   "metadata": {}
  },
  {
   "cell_type": "code",
   "execution_count": 76,
   "metadata": {},
   "outputs": [],
   "source": [
    "n = 300 \n",
    "eve = False"
   ]
  },
  {
   "source": [
    "First we will create our n EPR pairs and generate random bases for both Alice and Bob"
   ],
   "cell_type": "markdown",
   "metadata": {}
  },
  {
   "cell_type": "code",
   "execution_count": 77,
   "metadata": {},
   "outputs": [],
   "source": [
    "alice_bases = randint(3, size=n)\n",
    "bob_bases = randint(3, size=n)\n",
    "\n",
    "EPR_pairs = create_EPR_pairs(n)"
   ]
  },
  {
   "source": [
    "Next Eve and Bob will both measure the entangled bits in their respective bases"
   ],
   "cell_type": "markdown",
   "metadata": {}
  },
  {
   "cell_type": "code",
   "execution_count": 78,
   "metadata": {},
   "outputs": [],
   "source": [
    "a,b = measure(EPR_pairs, alice_bases, bob_bases)"
   ]
  },
  {
   "source": [
    "Finally Alice and Bob will communicate over a public channel their bases for measurement. All bits that match in measurement basis will be used for the final key. All bits that had different measurements will be used for the CHSH test."
   ],
   "cell_type": "markdown",
   "metadata": {}
  },
  {
   "cell_type": "code",
   "execution_count": 79,
   "metadata": {},
   "outputs": [
    {
     "output_type": "stream",
     "name": "stdout",
     "text": [
      "Alice and Bob have matching keys of length 72. The key is below\n[0, 0, 1, 1, 0, 0, 0, 1, 1, 0, 0, 0, 1, 1, 1, 1, 0, 1, 0, 0, 0, 0, 1, 1, 1, 0, 1, 0, 0, 1, 1, 1, 1, 1, 1, 0, 1, 0, 1, 0, 0, 0, 1, 1, 0, 0, 1, 1, 0, 1, 0, 1, 0, 1, 1, 1, 0, 1, 1, 1, 1, 1, 1, 1, 1, 1, 0, 1, 0, 0, 1, 0]\n\nThe CHSH test has been passed with a value of 2.757 and Alice and Bob can safely use this key.\n"
     ]
    }
   ],
   "source": [
    "alice_key, bob_key, eve_key, S = trash(a,b,alice_bases,bob_bases, None, None)\n",
    "\n",
    "if alice_key == bob_key:\n",
    "    print(f'Alice and Bob have matching keys of length {len(alice_key)}. The key is below')\n",
    "    print(alice_key, end='\\n\\n')\n",
    "\n",
    "    if S > 2:\n",
    "        print(f'The CHSH test has been passed with a value of {round(S,3)} and Alice and Bob can safely use this key.')\n",
    "    else:\n",
    "        print('The CHSH test has not been passed and this key cannot be used safely.')\n",
    "\n",
    "else:\n",
    "    print('Alice and Bob do not have matching keys! Something has gone wrong in the protocol.')"
   ]
  },
  {
   "source": [
    "## Second trial\n",
    "We will now introduce Eve to the system. We will run the test with an n of 300 again."
   ],
   "cell_type": "markdown",
   "metadata": {}
  },
  {
   "cell_type": "code",
   "execution_count": 80,
   "metadata": {},
   "outputs": [],
   "source": [
    "n = 300 \n",
    "eve = True"
   ]
  },
  {
   "source": [
    "We will generate EPR pairs and bases in the same way as above."
   ],
   "cell_type": "markdown",
   "metadata": {}
  },
  {
   "cell_type": "code",
   "execution_count": 81,
   "metadata": {},
   "outputs": [],
   "source": [
    "alice_bases = randint(3, size=n)\n",
    "bob_bases = randint(3, size=n)\n",
    "\n",
    "EPR_pairs = create_EPR_pairs(n)"
   ]
  },
  {
   "source": [
    "Now eve will intercept and measure the pairs sent on the public channel"
   ],
   "cell_type": "markdown",
   "metadata": {}
  },
  {
   "cell_type": "code",
   "execution_count": 82,
   "metadata": {},
   "outputs": [],
   "source": [
    "eve_a, eve_b = eve_intercept(EPR_pairs)"
   ]
  },
  {
   "source": [
    "Finally Alice and Bob measure their qubits and compare their results"
   ],
   "cell_type": "markdown",
   "metadata": {}
  },
  {
   "cell_type": "code",
   "execution_count": 85,
   "metadata": {},
   "outputs": [
    {
     "output_type": "stream",
     "name": "stdout",
     "text": [
      "The CHSH test has yielded a value of 1.767 which is below 2, so Eve was detected on the network and this key is not safe to use.\n"
     ]
    }
   ],
   "source": [
    "a,b = measure(EPR_pairs, alice_bases, bob_bases)\n",
    "alice_key, bob_key, eve_key, S = trash(a,b,alice_bases,bob_bases, eve_a, eve_b)\n",
    "\n",
    "if S < 2:\n",
    "    print(f'The CHSH test has yielded a value of {round(S,3)} which is below 2, so Eve was detected on the network and this key is not safe to use.')\n",
    "else:\n",
    "    print('By chance, this trial has passed the CHSH test and Eve went undetected.')\n",
    "\n"
   ]
  },
  {
   "cell_type": "code",
   "execution_count": null,
   "metadata": {},
   "outputs": [],
   "source": []
  }
 ],
 "metadata": {
  "kernelspec": {
   "display_name": "qiskit",
   "language": "python",
   "name": "qiskit"
  },
  "language_info": {
   "codemirror_mode": {
    "name": "ipython",
    "version": 3
   },
   "file_extension": ".py",
   "mimetype": "text/x-python",
   "name": "python",
   "nbconvert_exporter": "python",
   "pygments_lexer": "ipython3",
   "version": "3.8.5"
  }
 },
 "nbformat": 4,
 "nbformat_minor": 4
}